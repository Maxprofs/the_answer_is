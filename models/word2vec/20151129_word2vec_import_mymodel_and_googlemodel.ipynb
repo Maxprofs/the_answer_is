{
 "cells": [
  {
   "cell_type": "code",
   "execution_count": 5,
   "metadata": {
    "collapsed": false
   },
   "outputs": [],
   "source": [
    "import os\n",
    "import gensim, logging\n",
    "logging.basicConfig(format='%(asctime)s : %(levelname)s : %(message)s', level=logging.INFO)\n",
    "\n",
    "ck12_wiki_model = gensim.models.Word2Vec.load('/Users/MK/Desktop/Minchul/Kaggle/Allen_AI_Challenge/data/AI_word2vec_models/ck12_wiki_no_stopword')"
   ]
  },
  {
   "cell_type": "code",
   "execution_count": 6,
   "metadata": {
    "collapsed": false
   },
   "outputs": [
    {
     "data": {
      "text/plain": [
       "39114"
      ]
     },
     "execution_count": 6,
     "metadata": {},
     "output_type": "execute_result"
    }
   ],
   "source": [
    "len(ck12_wiki_model.index2word)"
   ]
  },
  {
   "cell_type": "code",
   "execution_count": 15,
   "metadata": {
    "collapsed": false
   },
   "outputs": [],
   "source": [
    "g_model = gensim.models.Word2Vec.load_word2vec_format('/Users/MK/Desktop/Minchul/Kaggle/Allen_AI_Challenge/data/AI_word2vec_models/GoogleNews-vectors-negative300.bin', binary=True)"
   ]
  },
  {
   "cell_type": "code",
   "execution_count": 16,
   "metadata": {
    "collapsed": false
   },
   "outputs": [
    {
     "data": {
      "text/plain": [
       "3000000"
      ]
     },
     "execution_count": 16,
     "metadata": {},
     "output_type": "execute_result"
    }
   ],
   "source": [
    "len(g_model.index2word)"
   ]
  },
  {
   "cell_type": "code",
   "execution_count": 17,
   "metadata": {
    "collapsed": false
   },
   "outputs": [
    {
     "data": {
      "text/plain": [
       "[(u'influenza_pandemic', 0.7642810344696045),\n",
       " (u'flu_pandemic', 0.7471441030502319),\n",
       " (u'epidemics', 0.7180846929550171),\n",
       " (u'avian_influenza_pandemic', 0.6936949491500854),\n",
       " (u'pandemic_influenza', 0.6871874332427979),\n",
       " (u'H#N#_pandemic', 0.6856544017791748),\n",
       " (u'Aids_epidemic', 0.6840832829475403),\n",
       " (u'H#N#_influenza_pandemic', 0.6757238507270813),\n",
       " (u'pandemic_flu', 0.6755924224853516),\n",
       " (u'AIDS_epidemic', 0.6730884313583374)]"
      ]
     },
     "execution_count": 17,
     "metadata": {},
     "output_type": "execute_result"
    }
   ],
   "source": [
    "g_model.most_similar(positive=['epidemic','pandemic'])"
   ]
  },
  {
   "cell_type": "code",
   "execution_count": 20,
   "metadata": {
    "collapsed": false
   },
   "outputs": [
    {
     "data": {
      "text/plain": [
       "300"
      ]
     },
     "execution_count": 20,
     "metadata": {},
     "output_type": "execute_result"
    }
   ],
   "source": [
    "#the actual vector of the word computer: 1X300 array (vector)\n",
    "len(g_model['computer'])\n"
   ]
  },
  {
   "cell_type": "code",
   "execution_count": 30,
   "metadata": {
    "collapsed": false
   },
   "outputs": [
    {
     "name": "stdout",
     "output_type": "stream",
     "text": [
      "[['word2', 0.4703935980796814], ['word2', 0.31769454479217529], ['word2', 0.45587337017059326]]\n",
      "[['word2', 0.9699418544769287], ['word2', 0.7971130609512329], ['word2', 0.9548543095588684]]\n"
     ]
    }
   ],
   "source": [
    "#cosine distance vs euclidean distance\n",
    "\n",
    "from scipy import spatial\n",
    "word1 = 'epidemic'\n",
    "word2 = 'influenza_pandemic'\n",
    "word3 = 'epidemics'\n",
    "word4 = 'avian_influenza_pandemic'\n",
    "cos_dist = []\n",
    "cos_dist.append(['word2',spatial.distance.cosine(g_model[word1], g_model[word2])])\n",
    "cos_dist.append(['word2',spatial.distance.cosine(g_model[word1], g_model[word3])])\n",
    "cos_dist.append(['word2',spatial.distance.cosine(g_model[word1], g_model[word4])])\n",
    "print cos_dist\n",
    "\n",
    "euc_dist = []\n",
    "euc_dist.append(['word2',spatial.distance.euclidean(g_model[word1], g_model[word2])])\n",
    "euc_dist.append(['word2',spatial.distance.euclidean(g_model[word1], g_model[word3])])\n",
    "euc_dist.append(['word2',spatial.distance.euclidean(g_model[word1], g_model[word4])])\n",
    "print euc_dist\n",
    "\n",
    "\n"
   ]
  },
  {
   "cell_type": "code",
   "execution_count": 52,
   "metadata": {
    "collapsed": false
   },
   "outputs": [],
   "source": [
    "def only_the_words_in_index( list, index ):\n",
    "    output = []\n",
    "    for a, s in enumerate(list):\n",
    "        if s in index:\n",
    "            output.append(list[a])\n",
    "    return output\n",
    "            \n",
    "    \n",
    "\n",
    "q = ['Which', 'is', 'a', 'distinction', 'between', 'an', 'epidemic', 'and', 'a', 'pandemic?']\n",
    "q =  only_the_words_in_index( q, g_model.index2word)\n",
    "\n",
    "a1 = ['the', 'symptoms', 'of', 'the', 'disease']\n",
    "a1 = only_the_words_in_index( a1, g_model.index2word)\n",
    "\n",
    "a2 = ['the', 'geographical', 'area', 'affected'] \n",
    "a2 = only_the_words_in_index( a2, g_model.index2word)\n",
    "\n",
    "a3 = ['the', 'species', 'of', 'organisms', 'infected'] \n",
    "a3 = only_the_words_in_index( a3, g_model.index2word)\n",
    "\n",
    "a4 = ['the', 'season', 'in', 'which', 'the', 'disease', 'spreads']\n",
    "a4 = only_the_words_in_index( a4, g_model.index2word)\n",
    "\n",
    "answer_similarity = []\n",
    "answer_similarity.append(['A',g_model.n_similarity(q, a1)])\n",
    "answer_similarity.append(['B',g_model.n_similarity(q, a2)])\n",
    "answer_similarity.append(['C',g_model.n_similarity(q, a3)])\n",
    "answer_similarity.append(['D',g_model.n_similarity(q, a4)])\n",
    "\n"
   ]
  },
  {
   "cell_type": "code",
   "execution_count": 54,
   "metadata": {
    "collapsed": false
   },
   "outputs": [
    {
     "data": {
      "text/plain": [
       "[['A', 0.49408027882705996],\n",
       " ['B', 0.38209171048651902],\n",
       " ['C', 0.36500795751921578],\n",
       " ['D', 0.54336677112954146]]"
      ]
     },
     "execution_count": 54,
     "metadata": {},
     "output_type": "execute_result"
    }
   ],
   "source": [
    "answer_similarity\n",
    "\n",
    "#the correct answer is B. So it is the second closest in word2vec model. "
   ]
  },
  {
   "cell_type": "code",
   "execution_count": null,
   "metadata": {
    "collapsed": true
   },
   "outputs": [],
   "source": []
  }
 ],
 "metadata": {
  "kernelspec": {
   "display_name": "Python 2",
   "language": "python",
   "name": "python2"
  },
  "language_info": {
   "codemirror_mode": {
    "name": "ipython",
    "version": 2
   },
   "file_extension": ".py",
   "mimetype": "text/x-python",
   "name": "python",
   "nbconvert_exporter": "python",
   "pygments_lexer": "ipython2",
   "version": "2.7.10"
  }
 },
 "nbformat": 4,
 "nbformat_minor": 0
}
