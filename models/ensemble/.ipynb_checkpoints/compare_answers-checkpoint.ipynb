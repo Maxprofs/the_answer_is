{
 "cells": [
  {
   "cell_type": "code",
   "execution_count": 11,
   "metadata": {
    "collapsed": false
   },
   "outputs": [],
   "source": [
    "import numpy as np\n",
    "import pandas as pd\n",
    "from pandas import Series, DataFrame\n",
    "import matplotlib.pyplot as plt\n",
    "import seaborn as sns\n",
    "\n",
    "sns.set_style('whitegrid')\n",
    "%matplotlib inline\n",
    "import sklearn\n",
    "from sklearn.linear_model import LinearRegression\n",
    "\n"
   ]
  },
  {
   "cell_type": "code",
   "execution_count": 12,
   "metadata": {
    "collapsed": false
   },
   "outputs": [],
   "source": [
    "fetch_ans = pd.read_table('/Users/MK/GitHub/the_answer_is/data/answer/fetch_doc_ws_train.csv', sep = ',')\n",
    "fetch_ans = fetch_ans['fetch_doc_ws_train_answer']\n",
    "\n",
    "w2v_ans = pd.read_table('/Users/MK/GitHub/the_answer_is/data/answer/pure_ck12_word2vec.csv', sep = ',')\n",
    "w2v_ans = w2v_ans['ck_12_word2vec_answer']\n",
    "\n",
    "ws_ans = pd.read_table('/Users/MK/GitHub/the_answer_is/data/answer/pure_wsregression.csv', sep = ',')\n",
    "ws_ans = ws_ans['wsregression_answer']\n",
    "\n",
    "correctAnswer = pd.read_table('/Users/MK/GitHub/the_answer_is/data/answer/fetch_doc_ws_train.csv', sep = ',')['correctAnswer']"
   ]
  },
  {
   "cell_type": "code",
   "execution_count": 20,
   "metadata": {
    "collapsed": false
   },
   "outputs": [],
   "source": [
    "ans_df = pd.DataFrame([fetch_ans, w2v_ans, ws_ans, correctAnswer])"
   ]
  },
  {
   "cell_type": "code",
   "execution_count": 21,
   "metadata": {
    "collapsed": false
   },
   "outputs": [
    {
     "data": {
      "text/html": [
       "<div>\n",
       "<table border=\"1\" class=\"dataframe\">\n",
       "  <thead>\n",
       "    <tr style=\"text-align: right;\">\n",
       "      <th></th>\n",
       "      <th>fetch_doc_ws_train_answer</th>\n",
       "      <th>ck_12_word2vec_answer</th>\n",
       "      <th>wsregression_answer</th>\n",
       "      <th>correctAnswer</th>\n",
       "    </tr>\n",
       "  </thead>\n",
       "  <tbody>\n",
       "    <tr>\n",
       "      <th>0</th>\n",
       "      <td>A</td>\n",
       "      <td>C</td>\n",
       "      <td>A</td>\n",
       "      <td>C</td>\n",
       "    </tr>\n",
       "    <tr>\n",
       "      <th>1</th>\n",
       "      <td>A</td>\n",
       "      <td>C</td>\n",
       "      <td>A</td>\n",
       "      <td>C</td>\n",
       "    </tr>\n",
       "    <tr>\n",
       "      <th>2</th>\n",
       "      <td>A</td>\n",
       "      <td>B</td>\n",
       "      <td>D</td>\n",
       "      <td>D</td>\n",
       "    </tr>\n",
       "    <tr>\n",
       "      <th>3</th>\n",
       "      <td>C</td>\n",
       "      <td>B</td>\n",
       "      <td>A</td>\n",
       "      <td>B</td>\n",
       "    </tr>\n",
       "    <tr>\n",
       "      <th>4</th>\n",
       "      <td>C</td>\n",
       "      <td>C</td>\n",
       "      <td>B</td>\n",
       "      <td>B</td>\n",
       "    </tr>\n",
       "  </tbody>\n",
       "</table>\n",
       "</div>"
      ],
      "text/plain": [
       "  fetch_doc_ws_train_answer ck_12_word2vec_answer wsregression_answer  \\\n",
       "0                         A                     C                   A   \n",
       "1                         A                     C                   A   \n",
       "2                         A                     B                   D   \n",
       "3                         C                     B                   A   \n",
       "4                         C                     C                   B   \n",
       "\n",
       "  correctAnswer  \n",
       "0             C  \n",
       "1             C  \n",
       "2             D  \n",
       "3             B  \n",
       "4             B  "
      ]
     },
     "execution_count": 21,
     "metadata": {},
     "output_type": "execute_result"
    }
   ],
   "source": [
    "ans_df = ans_df.transpose()\n",
    "ans_df.head()"
   ]
  },
  {
   "cell_type": "code",
   "execution_count": 39,
   "metadata": {
    "collapsed": false
   },
   "outputs": [
    {
     "data": {
      "text/html": [
       "<div>\n",
       "<table border=\"1\" class=\"dataframe\">\n",
       "  <thead>\n",
       "    <tr style=\"text-align: right;\">\n",
       "      <th></th>\n",
       "      <th>fetch_doc_ws_train_answer</th>\n",
       "      <th>ck_12_word2vec_answer</th>\n",
       "      <th>wsregression_answer</th>\n",
       "      <th>correctAnswer</th>\n",
       "      <th>fetch_ck_same</th>\n",
       "      <th>fetch_ws_same</th>\n",
       "      <th>ws_ck_same</th>\n",
       "    </tr>\n",
       "  </thead>\n",
       "  <tbody>\n",
       "    <tr>\n",
       "      <th>0</th>\n",
       "      <td>A</td>\n",
       "      <td>C</td>\n",
       "      <td>A</td>\n",
       "      <td>C</td>\n",
       "      <td>False</td>\n",
       "      <td>True</td>\n",
       "      <td>False</td>\n",
       "    </tr>\n",
       "    <tr>\n",
       "      <th>1</th>\n",
       "      <td>A</td>\n",
       "      <td>C</td>\n",
       "      <td>A</td>\n",
       "      <td>C</td>\n",
       "      <td>False</td>\n",
       "      <td>True</td>\n",
       "      <td>False</td>\n",
       "    </tr>\n",
       "    <tr>\n",
       "      <th>2</th>\n",
       "      <td>A</td>\n",
       "      <td>B</td>\n",
       "      <td>D</td>\n",
       "      <td>D</td>\n",
       "      <td>False</td>\n",
       "      <td>False</td>\n",
       "      <td>False</td>\n",
       "    </tr>\n",
       "    <tr>\n",
       "      <th>3</th>\n",
       "      <td>C</td>\n",
       "      <td>B</td>\n",
       "      <td>A</td>\n",
       "      <td>B</td>\n",
       "      <td>False</td>\n",
       "      <td>False</td>\n",
       "      <td>False</td>\n",
       "    </tr>\n",
       "    <tr>\n",
       "      <th>4</th>\n",
       "      <td>C</td>\n",
       "      <td>C</td>\n",
       "      <td>B</td>\n",
       "      <td>B</td>\n",
       "      <td>True</td>\n",
       "      <td>False</td>\n",
       "      <td>False</td>\n",
       "    </tr>\n",
       "  </tbody>\n",
       "</table>\n",
       "</div>"
      ],
      "text/plain": [
       "  fetch_doc_ws_train_answer ck_12_word2vec_answer wsregression_answer  \\\n",
       "0                         A                     C                   A   \n",
       "1                         A                     C                   A   \n",
       "2                         A                     B                   D   \n",
       "3                         C                     B                   A   \n",
       "4                         C                     C                   B   \n",
       "\n",
       "  correctAnswer fetch_ck_same fetch_ws_same ws_ck_same  \n",
       "0             C         False          True      False  \n",
       "1             C         False          True      False  \n",
       "2             D         False         False      False  \n",
       "3             B         False         False      False  \n",
       "4             B          True         False      False  "
      ]
     },
     "execution_count": 39,
     "metadata": {},
     "output_type": "execute_result"
    }
   ],
   "source": [
    "ans_df['fetch_ck_same'] = (ans_df['fetch_doc_ws_train_answer'] == ans_df['ck_12_word2vec_answer'] )\n",
    "ans_df['fetch_ws_same'] = (ans_df['fetch_doc_ws_train_answer'] == ans_df['wsregression_answer'] )\n",
    "ans_df['ws_ck_same'] = (ans_df['ck_12_word2vec_answer'] == ans_df['wsregression_answer'] )\n",
    "ans_df.head()"
   ]
  },
  {
   "cell_type": "code",
   "execution_count": 35,
   "metadata": {
    "collapsed": false
   },
   "outputs": [
    {
     "data": {
      "text/html": [
       "<div>\n",
       "<table border=\"1\" class=\"dataframe\">\n",
       "  <thead>\n",
       "    <tr style=\"text-align: right;\">\n",
       "      <th></th>\n",
       "      <th>fetch_doc_ws_train_answer</th>\n",
       "      <th>ck_12_word2vec_answer</th>\n",
       "      <th>wsregression_answer</th>\n",
       "      <th>correctAnswer</th>\n",
       "      <th>fetch_ck_same</th>\n",
       "      <th>fetch_ws_same</th>\n",
       "      <th>ws_ck_same</th>\n",
       "    </tr>\n",
       "  </thead>\n",
       "  <tbody>\n",
       "    <tr>\n",
       "      <th>4</th>\n",
       "      <td>C</td>\n",
       "      <td>C</td>\n",
       "      <td>B</td>\n",
       "      <td>B</td>\n",
       "      <td>True</td>\n",
       "      <td>False</td>\n",
       "      <td>False</td>\n",
       "    </tr>\n",
       "    <tr>\n",
       "      <th>11</th>\n",
       "      <td>A</td>\n",
       "      <td>A</td>\n",
       "      <td>D</td>\n",
       "      <td>D</td>\n",
       "      <td>True</td>\n",
       "      <td>False</td>\n",
       "      <td>False</td>\n",
       "    </tr>\n",
       "    <tr>\n",
       "      <th>18</th>\n",
       "      <td>A</td>\n",
       "      <td>A</td>\n",
       "      <td>D</td>\n",
       "      <td>B</td>\n",
       "      <td>True</td>\n",
       "      <td>False</td>\n",
       "      <td>False</td>\n",
       "    </tr>\n",
       "    <tr>\n",
       "      <th>21</th>\n",
       "      <td>B</td>\n",
       "      <td>B</td>\n",
       "      <td>C</td>\n",
       "      <td>C</td>\n",
       "      <td>True</td>\n",
       "      <td>False</td>\n",
       "      <td>False</td>\n",
       "    </tr>\n",
       "    <tr>\n",
       "      <th>24</th>\n",
       "      <td>B</td>\n",
       "      <td>B</td>\n",
       "      <td>D</td>\n",
       "      <td>A</td>\n",
       "      <td>True</td>\n",
       "      <td>False</td>\n",
       "      <td>False</td>\n",
       "    </tr>\n",
       "  </tbody>\n",
       "</table>\n",
       "</div>"
      ],
      "text/plain": [
       "   fetch_doc_ws_train_answer ck_12_word2vec_answer wsregression_answer  \\\n",
       "4                          C                     C                   B   \n",
       "11                         A                     A                   D   \n",
       "18                         A                     A                   D   \n",
       "21                         B                     B                   C   \n",
       "24                         B                     B                   D   \n",
       "\n",
       "   correctAnswer fetch_ck_same fetch_ws_same ws_ck_same  \n",
       "4              B          True         False      False  \n",
       "11             D          True         False      False  \n",
       "18             B          True         False      False  \n",
       "21             C          True         False      False  \n",
       "24             A          True         False      False  "
      ]
     },
     "execution_count": 35,
     "metadata": {},
     "output_type": "execute_result"
    }
   ],
   "source": [
    "fet_ck =  ans_df[ans_df['fetch_ck_same'] == True]\n",
    "fet_ck.head()"
   ]
  },
  {
   "cell_type": "code",
   "execution_count": 41,
   "metadata": {
    "collapsed": false
   },
   "outputs": [
    {
     "name": "stdout",
     "output_type": "stream",
     "text": [
      "percent correct is  0.231927710843\n"
     ]
    },
    {
     "name": "stderr",
     "output_type": "stream",
     "text": [
      "/Users/MK/anaconda/lib/python2.7/site-packages/ipykernel/__main__.py:1: SettingWithCopyWarning: \n",
      "A value is trying to be set on a copy of a slice from a DataFrame.\n",
      "Try using .loc[row_indexer,col_indexer] = value instead\n",
      "\n",
      "See the caveats in the documentation: http://pandas.pydata.org/pandas-docs/stable/indexing.html#indexing-view-versus-copy\n",
      "  if __name__ == '__main__':\n"
     ]
    }
   ],
   "source": [
    "#the percent right if two models answers are the same. \n",
    "fet_ck['fet_ck_correct'] = (fet_ck['correctAnswer'] == fet_ck['fetch_doc_ws_train_answer'])\n",
    "print 'percent correct is ' , fet_ck['fet_ck_correct'].sum(axis =0) / (len(fet_ck) + 0.0)"
   ]
  },
  {
   "cell_type": "code",
   "execution_count": 42,
   "metadata": {
    "collapsed": false
   },
   "outputs": [
    {
     "name": "stdout",
     "output_type": "stream",
     "text": [
      "percent correct is  0.310152990264\n"
     ]
    },
    {
     "name": "stderr",
     "output_type": "stream",
     "text": [
      "/Users/MK/anaconda/lib/python2.7/site-packages/ipykernel/__main__.py:3: SettingWithCopyWarning: \n",
      "A value is trying to be set on a copy of a slice from a DataFrame.\n",
      "Try using .loc[row_indexer,col_indexer] = value instead\n",
      "\n",
      "See the caveats in the documentation: http://pandas.pydata.org/pandas-docs/stable/indexing.html#indexing-view-versus-copy\n",
      "  app.launch_new_instance()\n"
     ]
    }
   ],
   "source": [
    "fet_ws =  ans_df[ans_df['fetch_ws_same'] == True]\n",
    "fet_ws.head()\n",
    "fet_ws['fet_ws_correct'] = (fet_ws['correctAnswer'] == fet_ws['fetch_doc_ws_train_answer'])\n",
    "print 'percent correct is ' , fet_ws['fet_ws_correct'].sum(axis =0) / (len(fet_ws) + 0.0)"
   ]
  },
  {
   "cell_type": "code",
   "execution_count": 44,
   "metadata": {
    "collapsed": false
   },
   "outputs": [
    {
     "name": "stdout",
     "output_type": "stream",
     "text": [
      " percent correct is  0.205357142857\n"
     ]
    },
    {
     "name": "stderr",
     "output_type": "stream",
     "text": [
      "/Users/MK/anaconda/lib/python2.7/site-packages/ipykernel/__main__.py:3: SettingWithCopyWarning: \n",
      "A value is trying to be set on a copy of a slice from a DataFrame.\n",
      "Try using .loc[row_indexer,col_indexer] = value instead\n",
      "\n",
      "See the caveats in the documentation: http://pandas.pydata.org/pandas-docs/stable/indexing.html#indexing-view-versus-copy\n",
      "  app.launch_new_instance()\n"
     ]
    }
   ],
   "source": [
    "ws_ck =  ans_df[ans_df['ws_ck_same'] == True]\n",
    "ws_ck.head()\n",
    "ws_ck['ws_ck_correct'] = (ws_ck['correctAnswer'] == ws_ck['wsregression_answer'])\n",
    "print 'percent correct is ' , ws_ck['ws_ck_correct'].sum(axis =0) / (len(ws_ck) + 0.0)"
   ]
  },
  {
   "cell_type": "code",
   "execution_count": null,
   "metadata": {
    "collapsed": true
   },
   "outputs": [],
   "source": []
  }
 ],
 "metadata": {
  "kernelspec": {
   "display_name": "Python 2",
   "language": "python",
   "name": "python2"
  },
  "language_info": {
   "codemirror_mode": {
    "name": "ipython",
    "version": 2
   },
   "file_extension": ".py",
   "mimetype": "text/x-python",
   "name": "python",
   "nbconvert_exporter": "python",
   "pygments_lexer": "ipython2",
   "version": "2.7.10"
  }
 },
 "nbformat": 4,
 "nbformat_minor": 0
}
