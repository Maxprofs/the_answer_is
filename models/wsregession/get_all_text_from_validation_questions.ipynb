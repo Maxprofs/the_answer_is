{
 "cells": [
  {
   "cell_type": "code",
   "execution_count": 1,
   "metadata": {
    "collapsed": false
   },
   "outputs": [
    {
     "data": {
      "text/html": [
       "<div>\n",
       "<table border=\"1\" class=\"dataframe\">\n",
       "  <thead>\n",
       "    <tr style=\"text-align: right;\">\n",
       "      <th></th>\n",
       "      <th>id</th>\n",
       "      <th>question</th>\n",
       "      <th>answerA</th>\n",
       "      <th>answerB</th>\n",
       "      <th>answerC</th>\n",
       "      <th>answerD</th>\n",
       "    </tr>\n",
       "  </thead>\n",
       "  <tbody>\n",
       "    <tr>\n",
       "      <th>0</th>\n",
       "      <td>102501</td>\n",
       "      <td>A meter is industry by developing a process of...</td>\n",
       "      <td>cool foods during shipping</td>\n",
       "      <td>yard</td>\n",
       "      <td>nervous system</td>\n",
       "      <td>birds of prey</td>\n",
       "    </tr>\n",
       "    <tr>\n",
       "      <th>1</th>\n",
       "      <td>102502</td>\n",
       "      <td>Which part of directly involved in recycling t...</td>\n",
       "      <td>panting</td>\n",
       "      <td>urethra</td>\n",
       "      <td>predators</td>\n",
       "      <td>water</td>\n",
       "    </tr>\n",
       "    <tr>\n",
       "      <th>2</th>\n",
       "      <td>102503</td>\n",
       "      <td>Which of the seeds grow better in the light or...</td>\n",
       "      <td>muscular system</td>\n",
       "      <td>keep one group in a light place and another in...</td>\n",
       "      <td>skates and rays</td>\n",
       "      <td>nervous tissue</td>\n",
       "    </tr>\n",
       "    <tr>\n",
       "      <th>3</th>\n",
       "      <td>102504</td>\n",
       "      <td>Which of the hermaphroditic. This growing seas...</td>\n",
       "      <td>coniferous forest</td>\n",
       "      <td>no reproductive organs</td>\n",
       "      <td>there is less water loss through small leaves</td>\n",
       "      <td>perennial</td>\n",
       "    </tr>\n",
       "    <tr>\n",
       "      <th>4</th>\n",
       "      <td>102505</td>\n",
       "      <td>When marsupials following is not a transport o...</td>\n",
       "      <td>heart.</td>\n",
       "      <td>glucagon.</td>\n",
       "      <td>hatched.</td>\n",
       "      <td>to protect vital organs.</td>\n",
       "    </tr>\n",
       "  </tbody>\n",
       "</table>\n",
       "</div>"
      ],
      "text/plain": [
       "       id                                           question  \\\n",
       "0  102501  A meter is industry by developing a process of...   \n",
       "1  102502  Which part of directly involved in recycling t...   \n",
       "2  102503  Which of the seeds grow better in the light or...   \n",
       "3  102504  Which of the hermaphroditic. This growing seas...   \n",
       "4  102505  When marsupials following is not a transport o...   \n",
       "\n",
       "                      answerA  \\\n",
       "0  cool foods during shipping   \n",
       "1                     panting   \n",
       "2             muscular system   \n",
       "3           coniferous forest   \n",
       "4                      heart.   \n",
       "\n",
       "                                             answerB  \\\n",
       "0                                               yard   \n",
       "1                                            urethra   \n",
       "2  keep one group in a light place and another in...   \n",
       "3                             no reproductive organs   \n",
       "4                                          glucagon.   \n",
       "\n",
       "                                         answerC                   answerD  \n",
       "0                                 nervous system             birds of prey  \n",
       "1                                      predators                     water  \n",
       "2                                skates and rays            nervous tissue  \n",
       "3  there is less water loss through small leaves                 perennial  \n",
       "4                                       hatched.  to protect vital organs.  "
      ]
     },
     "execution_count": 1,
     "metadata": {},
     "output_type": "execute_result"
    }
   ],
   "source": [
    "import pandas as pd\n",
    "import os\n",
    "path = '/Users/MK/GitHub/the_answer_is/data'\n",
    "os.chdir(path)\n",
    "train = pd.read_table('validation_set.tsv',sep = '\\t')\n",
    "train.head()"
   ]
  },
  {
   "cell_type": "code",
   "execution_count": 2,
   "metadata": {
    "collapsed": false
   },
   "outputs": [
    {
     "name": "stdout",
     "output_type": "stream",
     "text": [
      "['A meter is industry by developing a process of heating and cooling are examples of what body system?', 'Which part of directly involved in recycling the egg during reproduction, all constant body temperature except __________.', 'Which of the seeds grow better in the light or the that provides a framework of of its organs?', 'Which of the hermaphroditic. This growing season have what you think this is true?', 'When marsupials following is not a transport of blood flight response is']\n"
     ]
    }
   ],
   "source": [
    "question = list(train['question'])\n",
    "print question[0:5]"
   ]
  },
  {
   "cell_type": "code",
   "execution_count": 3,
   "metadata": {
    "collapsed": false
   },
   "outputs": [],
   "source": [
    "thefile = open('validation_question.txt','w')\n",
    "for item in question:\n",
    "    thefile.write(\"%s\\n\" % item)"
   ]
  },
  {
   "cell_type": "code",
   "execution_count": 4,
   "metadata": {
    "collapsed": true
   },
   "outputs": [],
   "source": [
    "#getting the list of all files in a directory. \n",
    "import os\n",
    "from os import walk\n",
    "\n",
    "def get_all_file_list(path):\n",
    "    mypath = path\n",
    "    f = []\n",
    "    for (dirpath, dirnames, filenames) in walk(mypath):\n",
    "        f.extend(filenames)\n",
    "    return f\n",
    "\n",
    "\n",
    "def stripNonAlphaNum(text):\n",
    "    import re\n",
    "    \n",
    "    return re.sub(r'[^\\x00-\\x7F]+',' ', text)\n",
    "\n",
    "def norm_word(word):\n",
    "    word = word.lower().strip('?').strip('.').strip(',').strip('!').strip(':').strip(';').strip('\\\"').strip('\\'')\n",
    "    return word\n",
    "\n",
    "def doc_to_unicode(doc_name, path):\n",
    "    os.chdir(path)\n",
    "    byline = open(doc_name).readlines()\n",
    "    n_total = len(byline)\n",
    "    file = open(doc_name + '_to_unicode.txt', 'w+')\n",
    "    for index, line in enumerate(byline):\n",
    "        line = line.strip('\\n').lower()\n",
    "    \n",
    "        try:\n",
    "            line = stripNonAlphaNum(line)   #delete all non-unicode letters.\n",
    "        except:\n",
    "            print 'Error', line\n",
    "        if not line:\n",
    "            continue\n",
    "    \n",
    "        line = ' '.join(map(norm_word, line.split()))  #drop all special characters\n",
    "        if line:\n",
    "            file.write(line + '\\n')\n",
    "#            print index, n_total, index * 1.0 / n_total, line\n",
    "    file.close()\n",
    "\n",
    "def doc_to_unicode_remove_stopwords(doc_name, path): \n",
    "    import re\n",
    "    from nltk.corpus import stopwords\n",
    "\n",
    "\n",
    "    os.chdir(path)\n",
    "    byline = open(doc_name).readlines()\n",
    "    n_total = len(byline)\n",
    "    file = open(doc_name + '_to_unicode_remove_stopwords.txt', 'w+')\n",
    "    for index, line in enumerate(byline):\n",
    "        line = line.strip('\\n').lower()\n",
    "    \n",
    "        try:\n",
    "            line = re.sub(r'[^a-zA-Z ]',r'',line)       #delete all but alphabet \n",
    "        except:\n",
    "            print 'Error', line\n",
    "        if not line:\n",
    "            continue\n",
    "\n",
    "        if line:                              # delete the empty lines. \n",
    "            line = line.split()\n",
    "            #line = nltk.word_tokenize(line)\n",
    "            line = [word for word in line if word not in stopwords.words('english')]  # remove the stop words. \n",
    "            line = ' '.join(line)  #join the list to make a string. \n",
    "            if line:\n",
    "                file.write(line + '\\n')\n",
    "#            print index, n_total, index * 1.0 / n_total, line\n",
    "    file.close()    \n",
    "\n",
    "    \n",
    "def doc_to_unicode_remove_stopwords_and_stem(doc_name, path): \n",
    "    import re\n",
    "    from nltk.corpus import stopwords\n",
    "    from nltk.stem.snowball import SnowballStemmer\n",
    "    #or use: from nltk.stem.porter import *\n",
    "    \n",
    "    stemmer = SnowballStemmer(\"english\")\n",
    "    # or use: stemmer = PorterStemmer()\n",
    "    os.chdir(path)\n",
    "    byline = open(doc_name).readlines()\n",
    "    n_total = len(byline)\n",
    "    file = open(doc_name + '_to_unicode_remove_stopwords_and_stem.txt', 'w+')\n",
    "    for index, line in enumerate(byline):\n",
    "        line = line.strip('\\n').lower()\n",
    "    \n",
    "        try:\n",
    "            line = re.sub(r'[^a-zA-Z ]',r'',line)       #delete all but alphabet \n",
    "        except:\n",
    "            print 'Error', line\n",
    "        if not line:\n",
    "            continue\n",
    "\n",
    "        if line:                              # delete the empty lines. \n",
    "            line = line.split()\n",
    "            #line = nltk.word_tokenize(line)\n",
    "            line = [word for word in line if word not in stopwords.words('english')]  # remove the stop words. \n",
    "            for i, s in enumerate(line):\n",
    "                line[i] = stemmer.stem(s)     #stem all words \n",
    "            line = ' '.join(line)           # join the list to make a string\n",
    "            if line:\n",
    "                file.write(line + '\\n')\n",
    "#            print index, n_total, index * 1.0 / n_total, line\n",
    "    file.close()\n",
    "    \n",
    "  "
   ]
  },
  {
   "cell_type": "code",
   "execution_count": 5,
   "metadata": {
    "collapsed": false
   },
   "outputs": [],
   "source": [
    "path = '/Users/MK/GitHub/the_answer_is/data/temporary3'\n",
    "filelist = ['validation_question.txt']   #get_all_file_list(path)\n",
    "for filename in filelist:\n",
    "    doc_to_unicode_remove_stopwords(filename, path)\n",
    "\n"
   ]
  },
  {
   "cell_type": "code",
   "execution_count": null,
   "metadata": {
    "collapsed": true
   },
   "outputs": [],
   "source": []
  }
 ],
 "metadata": {
  "kernelspec": {
   "display_name": "Python 2",
   "language": "python",
   "name": "python2"
  },
  "language_info": {
   "codemirror_mode": {
    "name": "ipython",
    "version": 2
   },
   "file_extension": ".py",
   "mimetype": "text/x-python",
   "name": "python",
   "nbconvert_exporter": "python",
   "pygments_lexer": "ipython2",
   "version": "2.7.10"
  }
 },
 "nbformat": 4,
 "nbformat_minor": 0
}
